{
 "cells": [
  {
   "cell_type": "markdown",
   "metadata": {},
   "source": [
    "## 課題1\n",
    "\n",
    "### 関数 $f(x) = x^3 + 2x^2 - 5x + 6$ がある\n",
    "\n",
    "1. f(x)を -5≦x≦3 で図示せよ。\n",
    "2. 初期値 $x_0=-3,1$ の二通りにおいて、ニュートン法を用いて $f(x)=0$ となるxを求めよ。\n"
   ]
  },
  {
   "cell_type": "code",
   "execution_count": 1,
   "metadata": {},
   "outputs": [
    {
     "output_type": "display_data",
     "data": {
      "text/plain": "<Figure size 640x480 with 1 Axes>"
     },
     "metadata": {}
    }
   ],
   "source": [
    "# 課題1-1\n",
    "import matplotlib.pyplot as plt\n",
    "import numpy as np\n",
    "\n",
    "def f(x):\n",
    "    return x**3 + 2*x**2 - 5*x + 6\n",
    "\n",
    "# -5≦x≦3\n",
    "x = np.arange(-5, 3.1, 0.1)\n",
    "\n",
    "# x**3 + 2*x**2 - 5*x + 6\n",
    "y = f(x)\n",
    "\n",
    "plt.plot(x, y)\n",
    "plt.xlabel('x')\n",
    "plt.ylabel('f(x)')\n",
    "plt.xlim(-6, 6)\n",
    "plt.ylim(-50, 50)\n",
    "plt.show()"
   ]
  },
  {
   "cell_type": "code",
   "execution_count": 2,
   "metadata": {
    "tags": [
     "outputPrepend"
    ]
   },
   "outputs": [
    {
     "output_type": "stream",
     "name": "stdout",
     "text": "-4.2\n-11.808\n-3.820565552699229\n-1.4714599308448448\n-3.757971282062912\n-0.0368260846507598\n-3.7563224877074934\n-2.520686419640285e-05\nx = -3 のニュートン法を用いた f(x) = 0 は\nf(x) = -1.1838062181189844e-11\n x = -3.7563213575872454\nとなる\n\n-1.0\n12.0\n1.0\n4.0\n-1.0\n12.0\n1.0\n4.0\n-1.0\n12.0\n1.0\n4.0\n-1.0\n12.0\n1.0\n4.0\n-1.0\n12.0\n1.0\n4.0\n-1.0\n12.0\nx = 1 のニュートン法を用いた f(x) = 0 は\nf(x) = 4.0\n x = 1.0\nとなる\n\n"
    }
   ],
   "source": [
    "# 課題1-2\n",
    "import sympy as sym\n",
    "\n",
    "def newton(x0, dif):\n",
    "    return x0 - (f(x0)/dif.subs(x, x0))\n",
    "\n",
    "def calc_newton(x0, dif):\n",
    "    # 不敵な初期値のためのカウンター\n",
    "    count = 0\n",
    "\n",
    "    while True:\n",
    "        x1 = newton(x0, dif)\n",
    "        if abs(f(x1)) < 10e-6 or count > 10:\n",
    "            break\n",
    "        print(float(x1))\n",
    "        print(float(f(x1)))\n",
    "        x0 = x1\n",
    "        count += 1\n",
    "    return x1, f(x1)\n",
    "\n",
    "# 初期値\n",
    "x0_list = [-3, 1]\n",
    "\n",
    "for x0 in x0_list:\n",
    "    # x\n",
    "    x = sym.symbols('x')\n",
    "    # 微分値\n",
    "    dif = sym.diff(f(x))\n",
    "    # ニュートン法\n",
    "    x, fx = calc_newton(x0, dif)\n",
    "    print(\"x = {} のニュートン法を用いた f(x) = 0 は\\nf(x) = {}\\n x = {}\\nとなる\\n\".format(x0, float(fx), float(x)))\n",
    "    \n",
    "\n",
    "    \n",
    "    \n"
   ]
  },
  {
   "cell_type": "markdown",
   "metadata": {},
   "source": [
    "### 結果\n",
    "\n",
    "以上より、  \n",
    "$x = -3.7563213575872454$ であるため、初期値 $x_0 = 3$ は適切である。  \n",
    "$x = 1.0$ であるため、初期値 $x_0 = 1$ は不適切である。"
   ]
  }
 ],
 "metadata": {
  "language_info": {
   "codemirror_mode": {
    "name": "ipython",
    "version": 3
   },
   "file_extension": ".py",
   "mimetype": "text/x-python",
   "name": "python",
   "nbconvert_exporter": "python",
   "pygments_lexer": "ipython3",
   "version": "3.7.4-final"
  },
  "orig_nbformat": 2,
  "kernelspec": {
   "name": "python3",
   "display_name": "Python 3"
  }
 },
 "nbformat": 4,
 "nbformat_minor": 2
}