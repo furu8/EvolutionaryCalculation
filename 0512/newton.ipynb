{
 "cells": [
  {
   "cell_type": "markdown",
   "metadata": {},
   "source": [
    "## 課題1\n",
    "\n",
    "### 関数 $f(x) = x^3 + 2x^2 - 5x + 6$ がある\n",
    "\n",
    "1. f(x)を -5≦x≦3 で図示せよ。\n",
    "2. 初期値 $x_0=-3,1$ の二通りにおいて、ニュートン法を用いて $f(x)=0$ となるxを求めよ。\n"
   ]
  },
  {
   "cell_type": "code",
   "execution_count": 1,
   "metadata": {},
   "outputs": [
    {
     "output_type": "display_data",
     "data": {
      "text/plain": "<Figure size 576x432 with 1 Axes>",
      "image/svg+xml": "<?xml version=\"1.0\" encoding=\"utf-8\" standalone=\"no\"?>\r\n<!DOCTYPE svg PUBLIC \"-//W3C//DTD SVG 1.1//EN\"\r\n  \"http://www.w3.org/Graphics/SVG/1.1/DTD/svg11.dtd\">\r\n<!-- Created with matplotlib (https://matplotlib.org/) -->\r\n<svg height=\"370.91625pt\" version=\"1.1\" viewBox=\"0 0 505.764062 370.91625\" width=\"505.764062pt\" xmlns=\"http://www.w3.org/2000/svg\" xmlns:xlink=\"http://www.w3.org/1999/xlink\">\r\n <defs>\r\n  <style type=\"text/css\">\r\n*{stroke-linecap:butt;stroke-linejoin:round;}\r\n  </style>\r\n </defs>\r\n <g id=\"figure_1\">\r\n  <g id=\"patch_1\">\r\n   <path d=\"M 0 370.91625 \r\nL 505.764062 370.91625 \r\nL 505.764062 0 \r\nL 0 0 \r\nz\r\n\" style=\"fill:none;\"/>\r\n  </g>\r\n  <g id=\"axes_1\">\r\n   <g id=\"patch_2\">\r\n    <path d=\"M 48.982813 333.36 \r\nL 495.382812 333.36 \r\nL 495.382812 7.2 \r\nL 48.982813 7.2 \r\nz\r\n\" style=\"fill:#ffffff;\"/>\r\n   </g>\r\n   <g id=\"matplotlib.axis_1\">\r\n    <g id=\"xtick_1\">\r\n     <g id=\"line2d_1\">\r\n      <defs>\r\n       <path d=\"M 0 0 \r\nL 0 3.5 \r\n\" id=\"m90c84a34b6\" style=\"stroke:#000000;stroke-width:0.8;\"/>\r\n      </defs>\r\n      <g>\r\n       <use style=\"stroke:#000000;stroke-width:0.8;\" x=\"48.982813\" xlink:href=\"#m90c84a34b6\" y=\"333.36\"/>\r\n      </g>\r\n     </g>\r\n     <g id=\"text_1\">\r\n      <!-- −6 -->\r\n      <defs>\r\n       <path d=\"M 10.59375 35.5 \r\nL 73.1875 35.5 \r\nL 73.1875 27.203125 \r\nL 10.59375 27.203125 \r\nz\r\n\" id=\"DejaVuSans-8722\"/>\r\n       <path d=\"M 33.015625 40.375 \r\nQ 26.375 40.375 22.484375 35.828125 \r\nQ 18.609375 31.296875 18.609375 23.390625 \r\nQ 18.609375 15.53125 22.484375 10.953125 \r\nQ 26.375 6.390625 33.015625 6.390625 \r\nQ 39.65625 6.390625 43.53125 10.953125 \r\nQ 47.40625 15.53125 47.40625 23.390625 \r\nQ 47.40625 31.296875 43.53125 35.828125 \r\nQ 39.65625 40.375 33.015625 40.375 \r\nz\r\nM 52.59375 71.296875 \r\nL 52.59375 62.3125 \r\nQ 48.875 64.0625 45.09375 64.984375 \r\nQ 41.3125 65.921875 37.59375 65.921875 \r\nQ 27.828125 65.921875 22.671875 59.328125 \r\nQ 17.53125 52.734375 16.796875 39.40625 \r\nQ 19.671875 43.65625 24.015625 45.921875 \r\nQ 28.375 48.1875 33.59375 48.1875 \r\nQ 44.578125 48.1875 50.953125 41.515625 \r\nQ 57.328125 34.859375 57.328125 23.390625 \r\nQ 57.328125 12.15625 50.6875 5.359375 \r\nQ 44.046875 -1.421875 33.015625 -1.421875 \r\nQ 20.359375 -1.421875 13.671875 8.265625 \r\nQ 6.984375 17.96875 6.984375 36.375 \r\nQ 6.984375 53.65625 15.1875 63.9375 \r\nQ 23.390625 74.21875 37.203125 74.21875 \r\nQ 40.921875 74.21875 44.703125 73.484375 \r\nQ 48.484375 72.75 52.59375 71.296875 \r\nz\r\n\" id=\"DejaVuSans-54\"/>\r\n      </defs>\r\n      <g transform=\"translate(41.611719 347.958438)scale(0.1 -0.1)\">\r\n       <use xlink:href=\"#DejaVuSans-8722\"/>\r\n       <use x=\"83.789062\" xlink:href=\"#DejaVuSans-54\"/>\r\n      </g>\r\n     </g>\r\n    </g>\r\n    <g id=\"xtick_2\">\r\n     <g id=\"line2d_2\">\r\n      <g>\r\n       <use style=\"stroke:#000000;stroke-width:0.8;\" x=\"123.382813\" xlink:href=\"#m90c84a34b6\" y=\"333.36\"/>\r\n      </g>\r\n     </g>\r\n     <g id=\"text_2\">\r\n      <!-- −4 -->\r\n      <defs>\r\n       <path d=\"M 37.796875 64.3125 \r\nL 12.890625 25.390625 \r\nL 37.796875 25.390625 \r\nz\r\nM 35.203125 72.90625 \r\nL 47.609375 72.90625 \r\nL 47.609375 25.390625 \r\nL 58.015625 25.390625 \r\nL 58.015625 17.1875 \r\nL 47.609375 17.1875 \r\nL 47.609375 0 \r\nL 37.796875 0 \r\nL 37.796875 17.1875 \r\nL 4.890625 17.1875 \r\nL 4.890625 26.703125 \r\nz\r\n\" id=\"DejaVuSans-52\"/>\r\n      </defs>\r\n      <g transform=\"translate(116.011719 347.958438)scale(0.1 -0.1)\">\r\n       <use xlink:href=\"#DejaVuSans-8722\"/>\r\n       <use x=\"83.789062\" xlink:href=\"#DejaVuSans-52\"/>\r\n      </g>\r\n     </g>\r\n    </g>\r\n    <g id=\"xtick_3\">\r\n     <g id=\"line2d_3\">\r\n      <g>\r\n       <use style=\"stroke:#000000;stroke-width:0.8;\" x=\"197.782813\" xlink:href=\"#m90c84a34b6\" y=\"333.36\"/>\r\n      </g>\r\n     </g>\r\n     <g id=\"text_3\">\r\n      <!-- −2 -->\r\n      <defs>\r\n       <path d=\"M 19.1875 8.296875 \r\nL 53.609375 8.296875 \r\nL 53.609375 0 \r\nL 7.328125 0 \r\nL 7.328125 8.296875 \r\nQ 12.9375 14.109375 22.625 23.890625 \r\nQ 32.328125 33.6875 34.8125 36.53125 \r\nQ 39.546875 41.84375 41.421875 45.53125 \r\nQ 43.3125 49.21875 43.3125 52.78125 \r\nQ 43.3125 58.59375 39.234375 62.25 \r\nQ 35.15625 65.921875 28.609375 65.921875 \r\nQ 23.96875 65.921875 18.8125 64.3125 \r\nQ 13.671875 62.703125 7.8125 59.421875 \r\nL 7.8125 69.390625 \r\nQ 13.765625 71.78125 18.9375 73 \r\nQ 24.125 74.21875 28.421875 74.21875 \r\nQ 39.75 74.21875 46.484375 68.546875 \r\nQ 53.21875 62.890625 53.21875 53.421875 \r\nQ 53.21875 48.921875 51.53125 44.890625 \r\nQ 49.859375 40.875 45.40625 35.40625 \r\nQ 44.1875 33.984375 37.640625 27.21875 \r\nQ 31.109375 20.453125 19.1875 8.296875 \r\nz\r\n\" id=\"DejaVuSans-50\"/>\r\n      </defs>\r\n      <g transform=\"translate(190.411719 347.958438)scale(0.1 -0.1)\">\r\n       <use xlink:href=\"#DejaVuSans-8722\"/>\r\n       <use x=\"83.789062\" xlink:href=\"#DejaVuSans-50\"/>\r\n      </g>\r\n     </g>\r\n    </g>\r\n    <g id=\"xtick_4\">\r\n     <g id=\"line2d_4\">\r\n      <g>\r\n       <use style=\"stroke:#000000;stroke-width:0.8;\" x=\"272.182813\" xlink:href=\"#m90c84a34b6\" y=\"333.36\"/>\r\n      </g>\r\n     </g>\r\n     <g id=\"text_4\">\r\n      <!-- 0 -->\r\n      <defs>\r\n       <path d=\"M 31.78125 66.40625 \r\nQ 24.171875 66.40625 20.328125 58.90625 \r\nQ 16.5 51.421875 16.5 36.375 \r\nQ 16.5 21.390625 20.328125 13.890625 \r\nQ 24.171875 6.390625 31.78125 6.390625 \r\nQ 39.453125 6.390625 43.28125 13.890625 \r\nQ 47.125 21.390625 47.125 36.375 \r\nQ 47.125 51.421875 43.28125 58.90625 \r\nQ 39.453125 66.40625 31.78125 66.40625 \r\nz\r\nM 31.78125 74.21875 \r\nQ 44.046875 74.21875 50.515625 64.515625 \r\nQ 56.984375 54.828125 56.984375 36.375 \r\nQ 56.984375 17.96875 50.515625 8.265625 \r\nQ 44.046875 -1.421875 31.78125 -1.421875 \r\nQ 19.53125 -1.421875 13.0625 8.265625 \r\nQ 6.59375 17.96875 6.59375 36.375 \r\nQ 6.59375 54.828125 13.0625 64.515625 \r\nQ 19.53125 74.21875 31.78125 74.21875 \r\nz\r\n\" id=\"DejaVuSans-48\"/>\r\n      </defs>\r\n      <g transform=\"translate(269.001563 347.958438)scale(0.1 -0.1)\">\r\n       <use xlink:href=\"#DejaVuSans-48\"/>\r\n      </g>\r\n     </g>\r\n    </g>\r\n    <g id=\"xtick_5\">\r\n     <g id=\"line2d_5\">\r\n      <g>\r\n       <use style=\"stroke:#000000;stroke-width:0.8;\" x=\"346.582812\" xlink:href=\"#m90c84a34b6\" y=\"333.36\"/>\r\n      </g>\r\n     </g>\r\n     <g id=\"text_5\">\r\n      <!-- 2 -->\r\n      <g transform=\"translate(343.401563 347.958438)scale(0.1 -0.1)\">\r\n       <use xlink:href=\"#DejaVuSans-50\"/>\r\n      </g>\r\n     </g>\r\n    </g>\r\n    <g id=\"xtick_6\">\r\n     <g id=\"line2d_6\">\r\n      <g>\r\n       <use style=\"stroke:#000000;stroke-width:0.8;\" x=\"420.982813\" xlink:href=\"#m90c84a34b6\" y=\"333.36\"/>\r\n      </g>\r\n     </g>\r\n     <g id=\"text_6\">\r\n      <!-- 4 -->\r\n      <g transform=\"translate(417.801563 347.958438)scale(0.1 -0.1)\">\r\n       <use xlink:href=\"#DejaVuSans-52\"/>\r\n      </g>\r\n     </g>\r\n    </g>\r\n    <g id=\"xtick_7\">\r\n     <g id=\"line2d_7\">\r\n      <g>\r\n       <use style=\"stroke:#000000;stroke-width:0.8;\" x=\"495.382812\" xlink:href=\"#m90c84a34b6\" y=\"333.36\"/>\r\n      </g>\r\n     </g>\r\n     <g id=\"text_7\">\r\n      <!-- 6 -->\r\n      <g transform=\"translate(492.201563 347.958438)scale(0.1 -0.1)\">\r\n       <use xlink:href=\"#DejaVuSans-54\"/>\r\n      </g>\r\n     </g>\r\n    </g>\r\n    <g id=\"text_8\">\r\n     <!-- x -->\r\n     <defs>\r\n      <path d=\"M 54.890625 54.6875 \r\nL 35.109375 28.078125 \r\nL 55.90625 0 \r\nL 45.3125 0 \r\nL 29.390625 21.484375 \r\nL 13.484375 0 \r\nL 2.875 0 \r\nL 24.125 28.609375 \r\nL 4.6875 54.6875 \r\nL 15.28125 54.6875 \r\nL 29.78125 35.203125 \r\nL 44.28125 54.6875 \r\nz\r\n\" id=\"DejaVuSans-120\"/>\r\n     </defs>\r\n     <g transform=\"translate(269.223437 361.636562)scale(0.1 -0.1)\">\r\n      <use xlink:href=\"#DejaVuSans-120\"/>\r\n     </g>\r\n    </g>\r\n   </g>\r\n   <g id=\"matplotlib.axis_2\">\r\n    <g id=\"ytick_1\">\r\n     <g id=\"line2d_8\">\r\n      <defs>\r\n       <path d=\"M 0 0 \r\nL -3.5 0 \r\n\" id=\"m69ae8a5baa\" style=\"stroke:#000000;stroke-width:0.8;\"/>\r\n      </defs>\r\n      <g>\r\n       <use style=\"stroke:#000000;stroke-width:0.8;\" x=\"48.982813\" xlink:href=\"#m69ae8a5baa\" y=\"300.744\"/>\r\n      </g>\r\n     </g>\r\n     <g id=\"text_9\">\r\n      <!-- −40 -->\r\n      <g transform=\"translate(20.878125 304.543219)scale(0.1 -0.1)\">\r\n       <use xlink:href=\"#DejaVuSans-8722\"/>\r\n       <use x=\"83.789062\" xlink:href=\"#DejaVuSans-52\"/>\r\n       <use x=\"147.412109\" xlink:href=\"#DejaVuSans-48\"/>\r\n      </g>\r\n     </g>\r\n    </g>\r\n    <g id=\"ytick_2\">\r\n     <g id=\"line2d_9\">\r\n      <g>\r\n       <use style=\"stroke:#000000;stroke-width:0.8;\" x=\"48.982813\" xlink:href=\"#m69ae8a5baa\" y=\"235.512\"/>\r\n      </g>\r\n     </g>\r\n     <g id=\"text_10\">\r\n      <!-- −20 -->\r\n      <g transform=\"translate(20.878125 239.311219)scale(0.1 -0.1)\">\r\n       <use xlink:href=\"#DejaVuSans-8722\"/>\r\n       <use x=\"83.789062\" xlink:href=\"#DejaVuSans-50\"/>\r\n       <use x=\"147.412109\" xlink:href=\"#DejaVuSans-48\"/>\r\n      </g>\r\n     </g>\r\n    </g>\r\n    <g id=\"ytick_3\">\r\n     <g id=\"line2d_10\">\r\n      <g>\r\n       <use style=\"stroke:#000000;stroke-width:0.8;\" x=\"48.982813\" xlink:href=\"#m69ae8a5baa\" y=\"170.28\"/>\r\n      </g>\r\n     </g>\r\n     <g id=\"text_11\">\r\n      <!-- 0 -->\r\n      <g transform=\"translate(35.620313 174.079219)scale(0.1 -0.1)\">\r\n       <use xlink:href=\"#DejaVuSans-48\"/>\r\n      </g>\r\n     </g>\r\n    </g>\r\n    <g id=\"ytick_4\">\r\n     <g id=\"line2d_11\">\r\n      <g>\r\n       <use style=\"stroke:#000000;stroke-width:0.8;\" x=\"48.982813\" xlink:href=\"#m69ae8a5baa\" y=\"105.048\"/>\r\n      </g>\r\n     </g>\r\n     <g id=\"text_12\">\r\n      <!-- 20 -->\r\n      <g transform=\"translate(29.257813 108.847219)scale(0.1 -0.1)\">\r\n       <use xlink:href=\"#DejaVuSans-50\"/>\r\n       <use x=\"63.623047\" xlink:href=\"#DejaVuSans-48\"/>\r\n      </g>\r\n     </g>\r\n    </g>\r\n    <g id=\"ytick_5\">\r\n     <g id=\"line2d_12\">\r\n      <g>\r\n       <use style=\"stroke:#000000;stroke-width:0.8;\" x=\"48.982813\" xlink:href=\"#m69ae8a5baa\" y=\"39.816\"/>\r\n      </g>\r\n     </g>\r\n     <g id=\"text_13\">\r\n      <!-- 40 -->\r\n      <g transform=\"translate(29.257813 43.615219)scale(0.1 -0.1)\">\r\n       <use xlink:href=\"#DejaVuSans-52\"/>\r\n       <use x=\"63.623047\" xlink:href=\"#DejaVuSans-48\"/>\r\n      </g>\r\n     </g>\r\n    </g>\r\n    <g id=\"text_14\">\r\n     <!-- f(x) -->\r\n     <defs>\r\n      <path d=\"M 37.109375 75.984375 \r\nL 37.109375 68.5 \r\nL 28.515625 68.5 \r\nQ 23.6875 68.5 21.796875 66.546875 \r\nQ 19.921875 64.59375 19.921875 59.515625 \r\nL 19.921875 54.6875 \r\nL 34.71875 54.6875 \r\nL 34.71875 47.703125 \r\nL 19.921875 47.703125 \r\nL 19.921875 0 \r\nL 10.890625 0 \r\nL 10.890625 47.703125 \r\nL 2.296875 47.703125 \r\nL 2.296875 54.6875 \r\nL 10.890625 54.6875 \r\nL 10.890625 58.5 \r\nQ 10.890625 67.625 15.140625 71.796875 \r\nQ 19.390625 75.984375 28.609375 75.984375 \r\nz\r\n\" id=\"DejaVuSans-102\"/>\r\n      <path d=\"M 31 75.875 \r\nQ 24.46875 64.65625 21.28125 53.65625 \r\nQ 18.109375 42.671875 18.109375 31.390625 \r\nQ 18.109375 20.125 21.3125 9.0625 \r\nQ 24.515625 -2 31 -13.1875 \r\nL 23.1875 -13.1875 \r\nQ 15.875 -1.703125 12.234375 9.375 \r\nQ 8.59375 20.453125 8.59375 31.390625 \r\nQ 8.59375 42.28125 12.203125 53.3125 \r\nQ 15.828125 64.359375 23.1875 75.875 \r\nz\r\n\" id=\"DejaVuSans-40\"/>\r\n      <path d=\"M 8.015625 75.875 \r\nL 15.828125 75.875 \r\nQ 23.140625 64.359375 26.78125 53.3125 \r\nQ 30.421875 42.28125 30.421875 31.390625 \r\nQ 30.421875 20.453125 26.78125 9.375 \r\nQ 23.140625 -1.703125 15.828125 -13.1875 \r\nL 8.015625 -13.1875 \r\nQ 14.5 -2 17.703125 9.0625 \r\nQ 20.90625 20.125 20.90625 31.390625 \r\nQ 20.90625 42.671875 17.703125 53.65625 \r\nQ 14.5 64.65625 8.015625 75.875 \r\nz\r\n\" id=\"DejaVuSans-41\"/>\r\n     </defs>\r\n     <g transform=\"translate(14.798438 178.901094)rotate(-90)scale(0.1 -0.1)\">\r\n      <use xlink:href=\"#DejaVuSans-102\"/>\r\n      <use x=\"35.205078\" xlink:href=\"#DejaVuSans-40\"/>\r\n      <use x=\"74.21875\" xlink:href=\"#DejaVuSans-120\"/>\r\n      <use x=\"133.398438\" xlink:href=\"#DejaVuSans-41\"/>\r\n     </g>\r\n    </g>\r\n   </g>\r\n   <g id=\"line2d_13\">\r\n    <path clip-path=\"url(#pabda550848)\" d=\"M 86.182813 313.7904 \r\nL 89.902813 297.903146 \r\nL 93.622813 282.844339 \r\nL 97.342812 268.594409 \r\nL 101.062812 255.133786 \r\nL 104.782812 242.4429 \r\nL 108.502812 230.502182 \r\nL 112.222812 219.292063 \r\nL 115.942812 208.792973 \r\nL 119.662812 198.985342 \r\nL 123.382812 189.8496 \r\nL 127.102812 181.366178 \r\nL 130.822812 173.515507 \r\nL 134.542812 166.278017 \r\nL 138.262812 159.634138 \r\nL 141.982812 153.5643 \r\nL 145.702812 148.048934 \r\nL 149.422812 143.068471 \r\nL 153.142812 138.603341 \r\nL 156.862812 134.633974 \r\nL 160.582812 131.1408 \r\nL 164.302812 128.10425 \r\nL 168.022812 125.504755 \r\nL 171.742812 123.322745 \r\nL 175.462812 121.53865 \r\nL 179.182812 120.1329 \r\nL 182.902812 119.085926 \r\nL 186.622812 118.378159 \r\nL 190.342812 117.990029 \r\nL 194.062812 117.901966 \r\nL 197.782812 118.0944 \r\nL 201.502812 118.547762 \r\nL 205.222812 119.242483 \r\nL 208.942812 120.158993 \r\nL 212.662812 121.277722 \r\nL 216.382812 122.5791 \r\nL 220.102812 124.043558 \r\nL 223.822812 125.651527 \r\nL 227.542812 127.383437 \r\nL 231.262812 129.219718 \r\nL 234.982812 131.1408 \r\nL 238.702812 133.127114 \r\nL 242.422812 135.159091 \r\nL 246.142812 137.217161 \r\nL 249.862812 139.281754 \r\nL 253.582812 141.3333 \r\nL 257.302812 143.35223 \r\nL 261.022812 145.318975 \r\nL 264.742812 147.213965 \r\nL 268.462812 149.01763 \r\nL 272.182812 150.7104 \r\nL 275.902812 152.272706 \r\nL 279.622812 153.684979 \r\nL 283.342812 154.927649 \r\nL 287.062812 155.981146 \r\nL 290.782812 156.8259 \r\nL 294.502812 157.442342 \r\nL 298.222812 157.810903 \r\nL 301.942812 157.912013 \r\nL 305.662812 157.726102 \r\nL 309.382812 157.2336 \r\nL 313.102812 156.414938 \r\nL 316.822812 155.250547 \r\nL 320.542812 153.720857 \r\nL 324.262812 151.806298 \r\nL 327.982812 149.4873 \r\nL 331.702812 146.744294 \r\nL 335.422812 143.557711 \r\nL 339.142812 139.907981 \r\nL 342.862812 135.775534 \r\nL 346.582812 131.1408 \r\nL 350.302812 125.98421 \r\nL 354.022812 120.286195 \r\nL 357.742812 114.027185 \r\nL 361.462812 107.18761 \r\nL 365.182812 99.7479 \r\nL 368.902812 91.688486 \r\nL 372.622812 82.989799 \r\nL 376.342812 73.632269 \r\nL 380.062812 63.596326 \r\nL 383.782812 52.8624 \r\n\" style=\"fill:none;stroke:#1f77b4;stroke-linecap:square;stroke-width:1.5;\"/>\r\n   </g>\r\n   <g id=\"patch_3\">\r\n    <path d=\"M 48.982813 333.36 \r\nL 48.982813 7.2 \r\n\" style=\"fill:none;stroke:#000000;stroke-linecap:square;stroke-linejoin:miter;stroke-width:0.8;\"/>\r\n   </g>\r\n   <g id=\"patch_4\">\r\n    <path d=\"M 495.382812 333.36 \r\nL 495.382812 7.2 \r\n\" style=\"fill:none;stroke:#000000;stroke-linecap:square;stroke-linejoin:miter;stroke-width:0.8;\"/>\r\n   </g>\r\n   <g id=\"patch_5\">\r\n    <path d=\"M 48.982813 333.36 \r\nL 495.382812 333.36 \r\n\" style=\"fill:none;stroke:#000000;stroke-linecap:square;stroke-linejoin:miter;stroke-width:0.8;\"/>\r\n   </g>\r\n   <g id=\"patch_6\">\r\n    <path d=\"M 48.982813 7.2 \r\nL 495.382812 7.2 \r\n\" style=\"fill:none;stroke:#000000;stroke-linecap:square;stroke-linejoin:miter;stroke-width:0.8;\"/>\r\n   </g>\r\n  </g>\r\n </g>\r\n <defs>\r\n  <clipPath id=\"pabda550848\">\r\n   <rect height=\"326.16\" width=\"446.4\" x=\"48.982813\" y=\"7.2\"/>\r\n  </clipPath>\r\n </defs>\r\n</svg>\r\n",
      "image/png": "[encoded data removed]"
     },
     "metadata": {
      "needs_background": "light"
     }
    }
   ],
   "source": [
    "# 課題1-1\n",
    "import matplotlib.pyplot as plt\n",
    "%matplotlib inline\n",
    "import numpy as np\n",
    "\n",
    "def f(x):\n",
    "    return x**3 + 2*x**2 - 5*x + 6\n",
    "\n",
    "# -5≦x≦3\n",
    "x = np.arange(-5, 3.1, 0.1)\n",
    "\n",
    "# x**3 + 2*x**2 - 5*x + 6\n",
    "y = f(x)\n",
    "\n",
    "fig = plt.figure(figsize=(8,6))\n",
    "plt.plot(x, y)\n",
    "plt.xlabel('x')\n",
    "plt.ylabel('f(x)')\n",
    "plt.xlim(-6, 6)\n",
    "plt.ylim(-50, 50)\n",
    "plt.show()"
   ]
  },
  {
   "cell_type": "code",
   "execution_count": 4,
   "metadata": {
    "tags": [
     "outputPrepend"
    ]
   },
   "outputs": [
    {
     "output_type": "stream",
     "name": "stdout",
     "text": "-4.2\n-11.808\n-3.820565552699229\n-1.4714599308448448\n-3.757971282062912\n-0.0368260846507598\n-3.7563224877074934\n-2.520686419640285e-05\n初期値 x0 = -3 のニュートン法を用いた f(x) = 0 は\nf(x) = -1.1838062181189844e-11\n x = -3.7563213575872454\nとなる\n\n-1.0\n12.0\n1.0\n4.0\n-1.0\n12.0\n1.0\n4.0\n-1.0\n12.0\n1.0\n4.0\n-1.0\n12.0\n1.0\n4.0\n-1.0\n12.0\n1.0\n4.0\n-1.0\n12.0\n初期値 x0 = 1 のニュートン法を用いた f(x) = 0 は\nf(x) = 4.0\n x = 1.0\nとなる\n\n"
    }
   ],
   "source": [
    "# 課題1-2\n",
    "import sympy as sym\n",
    "\n",
    "def newton(x0, dif):\n",
    "    return x0 - (f(x0)/dif.subs(x, x0))\n",
    "\n",
    "def calc_newton(x0, dif, th):\n",
    "    # 不要な初期値のためのカウンター\n",
    "    count = 0\n",
    "\n",
    "    while True:\n",
    "        x1 = newton(x0, dif)\n",
    "        if abs(f(x1)) < th or count > 10:\n",
    "            break\n",
    "        print(float(x1))\n",
    "        print(float(f(x1)))\n",
    "        x0 = x1\n",
    "        count += 1\n",
    "    return x1, f(x1)\n",
    "\n",
    "## main\n",
    "# 初期値\n",
    "x0_list = [-3, 1]\n",
    "# 閾値\n",
    "th = 10e-6\n",
    "# 探索実行\n",
    "for x0 in x0_list:\n",
    "    # x\n",
    "    x = sym.symbols('x')\n",
    "    # 微分値\n",
    "    dif = sym.diff(f(x))\n",
    "    # ニュートン法\n",
    "    x, fx = calc_newton(x0, dif, th)\n",
    "    print(\"初期値 x0 = {} のニュートン法を用いた f(x) = 0 は\\nf(x) = {}\\n x = {}\\nとなる\\n\".format(x0, float(fx), float(x)))"
   ]
  },
  {
   "cell_type": "markdown",
   "metadata": {},
   "source": [
    "### 結果\n",
    "\n",
    "以上より、  \n",
    "$x = -3.7563213575872454$ であるため、初期値 $x_0 = 3$ は適切である。  \n",
    "$x = 1.0$ で解が見つからないため、初期値 $x_0 = 1$ は不適切である。"
   ]
  },
  {
   "cell_type": "markdown",
   "metadata": {},
   "source": [
    "## 課題2\n",
    "### 関数 $f_1(x) = x_1^2 + x_2^2 - 1 = 0$ , $ f_2(x) = x_1^3 - x_2 $ がある\n",
    "\n",
    "初期値$(x_1, x_2) = (1, 0.5)$とし、ニュートン法を用いて$f(x) = 0$となる$x$を求めよ。\n",
    "\n",
    "また、その時の途中解$x_k$と$f_1(x_k), f_2(x_k)$の値も記せ。\n",
    "\n",
    "終了条件は$f_1(x_k) < 10^-6$ AND $f_2(x_k) < 10^-6$とする。"
   ]
  },
  {
   "cell_type": "code",
   "execution_count": 6,
   "metadata": {},
   "outputs": [
    {
     "output_type": "stream",
     "name": "stdout",
     "text": "途中解\n1回目\nx1 = 0.85\nx2 = 0.55\nf1(x1,x2) = 0.02499999999999991\nf2(x1,x2) = 0.06412499999999988\n2回目\nx1 = 0.8266083124196609\nx2 = 0.563423517169615\nf1(x1,x2) = 0.0007273618610592614\nf2(x1,x2) = 0.001382486917828829\n3回目\nx1 = 0.826031686465398\nx2 = 0.5636240108887777\nf1(x1,x2) = 3.726952226834612e-07\nf2(x1,x2) = 8.243438434085704e-07\n\n初期値 (x01,x02) = (1,0.5) のニュートン法を用いた f(x) = 0 は\nf1(x1,x2) = 3.726952226834612e-07\nf2(x1,x2) = 8.243438434085704e-07\nx1 = 0.826031686465398\nx2 = 0.5636240108887777\nとなる\n\n"
    }
   ],
   "source": [
    "def f1(x1, x2) :\n",
    "    return x1**2 + x2**2 - 1\n",
    "\n",
    "def f2(x1, x2) :\n",
    "    return x1**3 - x2\n",
    "\n",
    "def newton_2d(x01, x02, x1, x2):\n",
    "    # 偏微分式割当\n",
    "    a = sym.diff(f1(x1, x2), x1)\n",
    "    b = sym.diff(f1(x1, x2), x2)\n",
    "    c = sym.diff(f2(x1, x2), x1)\n",
    "    d = sym.diff(f2(x1, x2), x2) \n",
    "\n",
    "    # 一般式\n",
    "    x0_matrix = np.matrix([[x01], [x02]])\n",
    "    jacobi_matrix = np.linalg.inv(np.matrix([[float(a.subs(x1, x01)), float(b.subs(x2, x02))], [float(c.subs(x1, x01)), float(d.subs(x2, x02))]]))\n",
    "    fx_matrix = np.matrix([[f1(x01, x02)], [f2(x01, x02)]])\n",
    "    a_x1, a_x2 = x0_matrix - jacobi_matrix * fx_matrix\n",
    "\n",
    "    return float(a_x1), float(a_x2)\n",
    "\n",
    "def calc_newton_2d(x01, x02, x1, x2, th):\n",
    "    # 不要な初期値のためのカウンター\n",
    "    count = 0\n",
    "    print('途中解')\n",
    "    while True:\n",
    "        a_x1, a_x2 = newton_2d(x01, x02, x1, x2)\n",
    "        print('{}回目'.format(count+1))\n",
    "        print('x1 = {}\\nx2 = {}'.format(a_x1, a_x2))\n",
    "        print('f1(x1,x2) = {}\\nf2(x1,x2) = {}'.format(f1(a_x1,a_x2), f2(a_x1,a_x2)))\n",
    "        if abs(f1(a_x1, a_x2)) < th and abs(f2(a_x1, a_x2) < th):\n",
    "            break\n",
    "        if count > 10:\n",
    "            break\n",
    "        x01 = a_x1\n",
    "        x02 = a_x2\n",
    "        count += 1\n",
    "\n",
    "    return a_x1, a_x2, f1(a_x1, a_x2), f2(a_x1, a_x2)\n",
    "\n",
    "### main\n",
    "## 初期値\n",
    "x01 = 1\n",
    "x02 = 0.5\n",
    "## 閾値\n",
    "th = 10e-6\n",
    "## 探索実行\n",
    "# x\n",
    "x1, x2 = sym.symbols('x1, x2')\n",
    "# ニュートン法\n",
    "a_x1, a_x2, f1x, f2x = calc_newton_2d(x01, x02, x1, x2, th)\n",
    "print(\"\\n初期値 (x01,x02) = ({},{}) のニュートン法を用いた f(x) = 0 は\\nf1(x1,x2) = {}\\nf2(x1,x2) = {}\\nx1 = {}\\nx2 = {}\\nとなる\\n\".format(x01, x02, float(f1x), float(f2x), float(a_x1), float(a_x2)))"
   ]
  },
  {
   "cell_type": "markdown",
   "metadata": {},
   "source": [
    "### 結果\n",
    "\n",
    "以上より、\n",
    "  \n",
    "$x1 = 0.826031686465398$  \n",
    "$x2 = 0.5636240108887777$   \n",
    "  \n",
    "であるため、初期値$(x_1, x_2) = (1, 0.5)$ は適切である。  "
   ]
  }
 ],
 "metadata": {
  "language_info": {
   "codemirror_mode": {
    "name": "ipython",
    "version": 3
   },
   "file_extension": ".py",
   "mimetype": "text/x-python",
   "name": "python",
   "nbconvert_exporter": "python",
   "pygments_lexer": "ipython3",
   "version": "3.7.4-final"
  },
  "orig_nbformat": 2,
  "kernelspec": {
   "name": "python3",
   "display_name": "Python 3"
  }
 },
 "nbformat": 4,
 "nbformat_minor": 2
}