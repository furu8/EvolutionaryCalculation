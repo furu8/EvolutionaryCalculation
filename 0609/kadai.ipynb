{
 "cells": [
  {
   "cell_type": "markdown",
   "metadata": {},
   "source": [
    "## 例題4"
   ]
  },
  {
   "cell_type": "code",
   "execution_count": 1,
   "metadata": {},
   "outputs": [
    {
     "output_type": "stream",
     "name": "stdout",
     "text": "信頼区間:(0.5729774823112059, 0.827022517688794)\n"
    }
   ],
   "source": [
    "import matplotlib.pyplot as plt\n",
    "%matplotlib inline\n",
    "import numpy as np\n",
    "import pandas as pd\n",
    "\n",
    "n = 50\n",
    "z = 1.96\n",
    "_p = 0.7\n",
    "\n",
    "un_value = _p - z * np.sqrt((_p*(1-_p))/n)\n",
    "up_value = _p + z * np.sqrt((_p*(1-_p))/n)\n",
    "\n",
    "print('信頼区間:({}, {})'.format(un_value, up_value))"
   ]
  },
  {
   "cell_type": "markdown",
   "metadata": {},
   "source": [
    "下限の信頼限界が0.5を超えているため、当選確定と言える。"
   ]
  },
  {
   "cell_type": "markdown",
   "metadata": {},
   "source": [
    "## 例題5"
   ]
  },
  {
   "cell_type": "code",
   "execution_count": 2,
   "metadata": {},
   "outputs": [
    {
     "output_type": "stream",
     "name": "stdout",
     "text": "n = 96.03999999999998\n"
    }
   ],
   "source": [
    "z = 1.96\n",
    "_p = 0.5\n",
    "s = 0.1\n",
    "\n",
    "root_n = z / s * np.sqrt(_p*(1-_p))\n",
    "n = root_n ** 2\n",
    "\n",
    "print('n = {}'.format(n))"
   ]
  },
  {
   "cell_type": "markdown",
   "metadata": {},
   "source": [
    "## 課題2"
   ]
  },
  {
   "cell_type": "code",
   "execution_count": 3,
   "metadata": {},
   "outputs": [
    {
     "output_type": "stream",
     "name": "stdout",
     "text": "平均：581.95\n標準偏差：752.4629210133879\n信頼区間:(220.64203803982963, 943.2579619601704)\n"
    }
   ],
   "source": [
    "value_list = np.array([400, 15, 480, 993, 600, 150, 115, 50, 0, 130, 3000, 500, 200, 55, 2200, 1, 900, 1000, 450, 400])\n",
    "# area_list = np.array([60, 30, 365, 190, 136, 15, 37, 100, 170, 70, 783, 560, 50, 35, 595, 200, 300, 356, 155, 250])\n",
    "\n",
    "n = 20\n",
    "z = 2.093\n",
    "x = np.mean(value_list)\n",
    "s = np.std(value_list)\n",
    "\n",
    "un_value = x - z * (s/np.sqrt(20-1))\n",
    "up_value = x + z * (s/np.sqrt(20-1))\n",
    "\n",
    "print('平均：{}'.format(x))\n",
    "print('標準偏差：{}'.format(s))\n",
    "print('信頼区間:({}, {})'.format(un_value, up_value))"
   ]
  },
  {
   "cell_type": "markdown",
   "metadata": {},
   "source": [
    "## 課題3"
   ]
  },
  {
   "cell_type": "code",
   "execution_count": 9,
   "metadata": {},
   "outputs": [
    {
     "output_type": "stream",
     "name": "stdout",
     "text": "n = 48020.0\n"
    }
   ],
   "source": [
    "# 99%\n",
    "# z = 2.58\n",
    "# 95%\n",
    "z = 1.96\n",
    "_P = 0.5\n",
    "s = 0.01\n",
    "\n",
    "root_n = z / s * np.sqrt(_p*(1-_p))\n",
    "n = root_n ** 2\n",
    "n *= 5\n",
    "print('n = {}'.format(n))"
   ]
  }
 ],
 "metadata": {
  "language_info": {
   "codemirror_mode": {
    "name": "ipython",
    "version": 3
   },
   "file_extension": ".py",
   "mimetype": "text/x-python",
   "name": "python",
   "nbconvert_exporter": "python",
   "pygments_lexer": "ipython3",
   "version": "3.7.4-final"
  },
  "orig_nbformat": 2,
  "kernelspec": {
   "name": "python3",
   "display_name": "Python 3"
  }
 },
 "nbformat": 4,
 "nbformat_minor": 2
}