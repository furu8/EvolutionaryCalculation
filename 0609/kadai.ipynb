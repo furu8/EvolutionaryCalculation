{
 "cells": [
  {
   "cell_type": "markdown",
   "metadata": {},
   "source": [
    "## 例題4"
   ]
  },
  {
   "cell_type": "code",
   "execution_count": 4,
   "metadata": {},
   "outputs": [
    {
     "output_type": "stream",
     "name": "stdout",
     "text": "信頼区間:(0.5729774823112059, 0.827022517688794)\n"
    }
   ],
   "source": [
    "import matplotlib.pyplot as plt\n",
    "%matplotlib inline\n",
    "import numpy as np\n",
    "import pandas as pd\n",
    "\n",
    "n = 50\n",
    "z = 1.96\n",
    "_p = 0.7\n",
    "\n",
    "un_value = _p - z * np.sqrt((_p*(1-_p))/n)\n",
    "up_value = _p + z * np.sqrt((_p*(1-_p))/n)\n",
    "\n",
    "print('信頼区間:({}, {})'.format(un_value, up_value))"
   ]
  },
  {
   "cell_type": "markdown",
   "metadata": {},
   "source": [
    "下限の信頼限界が0.5を超えているため、当選確定と言える。"
   ]
  },
  {
   "cell_type": "markdown",
   "metadata": {},
   "source": [
    "## 例題5"
   ]
  },
  {
   "cell_type": "code",
   "execution_count": 11,
   "metadata": {},
   "outputs": [
    {
     "output_type": "stream",
     "name": "stdout",
     "text": "n = 96.03999999999998\n"
    }
   ],
   "source": [
    "z = 1.96\n",
    "_p = 0.5\n",
    "s = 0.1\n",
    "\n",
    "root_n = z / s * np.sqrt(_p*(1-_p))\n",
    "n = root_n ** 2\n",
    "\n",
    "print('n = {}'.format(n))"
   ]
  },
  {
   "cell_type": "code",
   "execution_count": null,
   "metadata": {},
   "outputs": [],
   "source": []
  }
 ],
 "metadata": {
  "language_info": {
   "codemirror_mode": {
    "name": "ipython",
    "version": 3
   },
   "file_extension": ".py",
   "mimetype": "text/x-python",
   "name": "python",
   "nbconvert_exporter": "python",
   "pygments_lexer": "ipython3",
   "version": "3.7.4-final"
  },
  "orig_nbformat": 2,
  "kernelspec": {
   "name": "python3",
   "display_name": "Python 3"
  }
 },
 "nbformat": 4,
 "nbformat_minor": 2
}