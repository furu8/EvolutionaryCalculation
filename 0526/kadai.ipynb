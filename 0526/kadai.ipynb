{
 "cells": [
  {
   "cell_type": "markdown",
   "metadata": {},
   "source": [
    "## 課題1\n",
    "\n",
    "キュウリの収量の不偏標準誤差 $\\hat{σ}_\\bar{x}$ を、栽培法ごとに計算せよ。  \n",
    "ただし、𝑛𝑛 = 15であるが、標本標準偏差≒母標準偏差であると仮定する。\n"
   ]
  },
  {
   "cell_type": "code",
   "execution_count": 3,
   "metadata": {},
   "outputs": [
    {
     "output_type": "display_data",
     "data": {
      "text/plain": "           栽培法A     栽培法B\n標本サイズ        15       15\n平均      2443.67   3124.4\n標本標準偏差  413.536  353.008\n不偏標準偏差   428.05  365.398\n標本分散     171012   124614\n不偏分散     183227   133515\n標本標準誤差  106.774  91.1462\n不偏標準誤差  110.522  94.3453",
      "text/html": "<div>\n<style scoped>\n    .dataframe tbody tr th:only-of-type {\n        vertical-align: middle;\n    }\n\n    .dataframe tbody tr th {\n        vertical-align: top;\n    }\n\n    .dataframe thead th {\n        text-align: right;\n    }\n</style>\n<table border=\"1\" class=\"dataframe\">\n  <thead>\n    <tr style=\"text-align: right;\">\n      <th></th>\n      <th>栽培法A</th>\n      <th>栽培法B</th>\n    </tr>\n  </thead>\n  <tbody>\n    <tr>\n      <th>標本サイズ</th>\n      <td>15</td>\n      <td>15</td>\n    </tr>\n    <tr>\n      <th>平均</th>\n      <td>2443.67</td>\n      <td>3124.4</td>\n    </tr>\n    <tr>\n      <th>標本標準偏差</th>\n      <td>413.536</td>\n      <td>353.008</td>\n    </tr>\n    <tr>\n      <th>不偏標準偏差</th>\n      <td>428.05</td>\n      <td>365.398</td>\n    </tr>\n    <tr>\n      <th>標本分散</th>\n      <td>171012</td>\n      <td>124614</td>\n    </tr>\n    <tr>\n      <th>不偏分散</th>\n      <td>183227</td>\n      <td>133515</td>\n    </tr>\n    <tr>\n      <th>標本標準誤差</th>\n      <td>106.774</td>\n      <td>91.1462</td>\n    </tr>\n    <tr>\n      <th>不偏標準誤差</th>\n      <td>110.522</td>\n      <td>94.3453</td>\n    </tr>\n  </tbody>\n</table>\n</div>"
     },
     "metadata": {}
    }
   ],
   "source": [
    "import matplotlib.pyplot as plt\n",
    "%matplotlib inline\n",
    "import numpy as np\n",
    "import pandas as pd\n",
    "\n",
    "a = np.array([3063,2275,2089,2855,2836,3219,2817,2136,2540,2263,2140,1757,2499,2093,2073])\n",
    "b = np.array([3157,2707,3270,3181,3633,3404,2219,2730,3408,3203,2938,3286,2920,3332,3478])\n",
    "\n",
    "df = pd.DataFrame(index=['標本サイズ', '平均', '標本標準偏差', '不偏標準偏差', '標本分散', '不偏分散', '標本標準誤差', '不偏標準誤差'], columns=['栽培法A', '栽培法B'])\n",
    "\n",
    "df['栽培法A']['標本サイズ'] = len(a)\n",
    "df['栽培法B']['標本サイズ'] = len(b)\n",
    "df['栽培法A']['平均'] = np.mean(a)\n",
    "df['栽培法B']['平均'] = np.mean(b)\n",
    "df['栽培法A']['標本標準偏差'] = np.std(a)\n",
    "df['栽培法B']['標本標準偏差'] = np.std(b)\n",
    "df['栽培法A']['不偏標準偏差'] = np.std(a, ddof=1)\n",
    "df['栽培法B']['不偏標準偏差'] = np.std(b, ddof=1)\n",
    "df['栽培法A']['標本分散'] = np.var(a)\n",
    "df['栽培法B']['標本分散'] = np.var(b)\n",
    "df['栽培法A']['不偏分散'] = np.var(a, ddof=1)\n",
    "df['栽培法B']['不偏分散'] = np.var(b, ddof=1)\n",
    "df['栽培法A']['標本標準誤差'] = np.std(a) / np.sqrt(len(a))\n",
    "df['栽培法B']['標本標準誤差'] = np.std(b) / np.sqrt(len(b))\n",
    "df['栽培法A']['不偏標準誤差'] = np.std(a, ddof=1) / np.sqrt(len(a))\n",
    "df['栽培法B']['不偏標準誤差'] = np.std(b, ddof=1) / np.sqrt(len(b))\n",
    "\n",
    "display(df)"
   ]
  },
  {
   "cell_type": "markdown",
   "metadata": {},
   "source": [
    "## 課題2\n",
    "\n",
    "ある大学で、授業内容の検討資料とするため、新入生の学力を測ることにしました。しかし新入生だけでも1万人もいるため、無作為に500人だけ抽出して試験を行うことにしました。  \n",
    "この試験（調査）における、母集団と標本が何にあたるか、また、標本数（標本サイズではない）がいくつか答えなさい。\n"
   ]
  },
  {
   "cell_type": "code",
   "execution_count": 2,
   "metadata": {},
   "outputs": [
    {
     "output_type": "stream",
     "name": "stdout",
     "text": "\n試行回数:101\nx = 0.08483498520411697\nf(x) = 5.590829578652007\n"
    }
   ],
   "source": [
    "\n"
   ]
  }
 ],
 "metadata": {
  "language_info": {
   "codemirror_mode": {
    "name": "ipython",
    "version": 3
   },
   "file_extension": ".py",
   "mimetype": "text/x-python",
   "name": "python",
   "nbconvert_exporter": "python",
   "pygments_lexer": "ipython3",
   "version": "3.7.4-final"
  },
  "orig_nbformat": 2,
  "kernelspec": {
   "name": "python3",
   "display_name": "Python 3"
  }
 },
 "nbformat": 4,
 "nbformat_minor": 2
}