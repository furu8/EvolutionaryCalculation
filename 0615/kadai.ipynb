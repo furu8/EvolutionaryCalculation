{
 "cells": [
  {
   "cell_type": "markdown",
   "metadata": {},
   "source": [
    "## 例題1"
   ]
  },
  {
   "cell_type": "code",
   "execution_count": 1,
   "metadata": {},
   "outputs": [
    {
     "output_type": "stream",
     "name": "stdout",
     "text": "信頼区間:(4.91788566813246, 113.22314049586777)\n"
    }
   ],
   "source": [
    "import matplotlib.pyplot as plt\n",
    "%matplotlib inline\n",
    "import numpy as np\n",
    "import pandas as pd\n",
    "\n",
    "tento_list = np.array([5, 8, 10, 11, 15])\n",
    "n = 5\n",
    "var = np.var(tento_list, ddof=1)\n",
    "# print(var)\n",
    "un_kai, up_kai = 0.484, 11.143\n",
    "\n",
    "un_value = ((n-1) * var) / up_kai\n",
    "up_value = ((n-1) * var) / un_kai\n",
    "\n",
    "print('信頼区間:({}, {})'.format(un_value, up_value))"
   ]
  },
  {
   "cell_type": "markdown",
   "metadata": {},
   "source": [
    "下限の信頼限界が0.5を超えているため、当選確定と言える。"
   ]
  },
  {
   "cell_type": "markdown",
   "metadata": {},
   "source": [
    "## 課題1"
   ]
  },
  {
   "cell_type": "code",
   "execution_count": 2,
   "metadata": {},
   "outputs": [
    {
     "output_type": "stream",
     "name": "stdout",
     "text": "信頼区間:(13.298658313139073, 67.66917293233082)\n"
    }
   ],
   "source": [
    "n = 10\n",
    "var = 5 ** 2\n",
    "# print(var)\n",
    "un_kai, up_kai = 3.325, 16.919\n",
    "\n",
    "un_value = ((n-1) * var) / up_kai\n",
    "up_value = ((n-1) * var) / un_kai\n",
    "\n",
    "print('信頼区間:({}, {})'.format(un_value, up_value))"
   ]
  }
 ],
 "metadata": {
  "language_info": {
   "codemirror_mode": {
    "name": "ipython",
    "version": 3
   },
   "file_extension": ".py",
   "mimetype": "text/x-python",
   "name": "python",
   "nbconvert_exporter": "python",
   "pygments_lexer": "ipython3",
   "version": "3.7.4-final"
  },
  "orig_nbformat": 2,
  "kernelspec": {
   "name": "python3",
   "display_name": "Python 3"
  }
 },
 "nbformat": 4,
 "nbformat_minor": 2
}