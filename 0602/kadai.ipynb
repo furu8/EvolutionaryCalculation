{
 "cells": [
  {
   "cell_type": "markdown",
   "metadata": {},
   "source": [
    "## 例題2\n",
    "\n",
    "中国産キャベツの輸入量と、中国産野菜に関する記事の掲載回数とのカンケについて調べたところ（2000年1月~2006年6月）、1回の掲載に月輸入量が月平均で1650.0トン減少していることがわかりました。この減少量について、信頼係数90%の信頼区間を推定してください。なお、標本サイズは66（月）、標本標準誤差は680.6（トン）です。\n"
   ]
  },
  {
   "cell_type": "code",
   "execution_count": 8,
   "metadata": {},
   "outputs": [
    {
     "output_type": "stream",
     "name": "stdout",
     "text": "信頼区間:(27.6, 302.4)\n"
    }
   ],
   "source": [
    "import matplotlib.pyplot as plt\n",
    "%matplotlib inline\n",
    "import numpy as np\n",
    "import pandas as pd\n",
    "\n",
    "z = 1.64\n",
    "# z = 1.65\n",
    "x = 165.0\n",
    "ss = 66\n",
    "ss_std = 680.6\n",
    "\n",
    "un_value = x - z * (ss_std / np.sqrt(ss)) \n",
    "up_value = x + z * (ss_std / np.sqrt(ss)) \n",
    "\n",
    "print('信頼区間:({:.1f}, {:.1f})'.format(un_value, up_value))"
   ]
  },
  {
   "cell_type": "markdown",
   "metadata": {},
   "source": [
    "## 課題2\n",
    "\n",
    "ある大学で、授業内容の検討資料とするため、新入生の学力を測ることにしました。しかし新入生だけでも1万人もいるため、無作為に500人だけ抽出して試験を行うことにしました。  \n",
    "この試験（調査）における、母集団と標本が何にあたるか、また、標本数（標本サイズではない）がいくつか答えなさい。\n"
   ]
  }
 ],
 "metadata": {
  "language_info": {
   "codemirror_mode": {
    "name": "ipython",
    "version": 3
   },
   "file_extension": ".py",
   "mimetype": "text/x-python",
   "name": "python",
   "nbconvert_exporter": "python",
   "pygments_lexer": "ipython3",
   "version": "3.7.4-final"
  },
  "orig_nbformat": 2,
  "kernelspec": {
   "name": "python3",
   "display_name": "Python 3"
  }
 },
 "nbformat": 4,
 "nbformat_minor": 2
}