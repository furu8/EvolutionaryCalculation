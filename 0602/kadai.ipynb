{
 "cells": [
  {
   "cell_type": "markdown",
   "metadata": {},
   "source": [
    "## 例題2\n",
    "\n",
    "中国産キャベツの輸入量と、中国産野菜に関する記事の掲載回数とのカンケについて調べたところ（2000年1月~2006年6月）、1回の掲載に月輸入量が月平均で1650.0トン減少していることがわかりました。この減少量について、信頼係数90%の信頼区間を推定してください。なお、標本サイズは66（月）、標本標準誤差は680.6（トン）です。\n"
   ]
  },
  {
   "cell_type": "code",
   "execution_count": 5,
   "metadata": {},
   "outputs": [
    {
     "output_type": "stream",
     "name": "stdout",
     "text": "信頼区間:(26.76948654511915, 303.23051345488085)\n"
    }
   ],
   "source": [
    "import matplotlib.pyplot as plt\n",
    "%matplotlib inline\n",
    "import numpy as np\n",
    "import pandas as pd\n",
    "\n",
    "# z = 1.64\n",
    "z = 1.65\n",
    "x = 165.0\n",
    "ss = 66\n",
    "ss_std = 680.6\n",
    "\n",
    "un_value = x - z * (ss_std / np.sqrt(ss)) \n",
    "up_value = x + z * (ss_std / np.sqrt(ss)) \n",
    "\n",
    "print('信頼区間:({}, {})'.format(un_value, up_value))"
   ]
  },
  {
   "cell_type": "markdown",
   "metadata": {},
   "source": [
    "## 課題1\n",
    "\n",
    "ある島に調査に行って、そこに自生しているスギの中から無作為に100本を選び、胸高周囲（成人の胸の高さで幹周り）を観測したところ、標本平均が2.0m、標本分散が$1.0m^2$でした。この島のスギの平均胸高周囲の信頼区間を信頼係数95%で推定しなさい。\n"
   ]
  },
  {
   "cell_type": "code",
   "execution_count": 4,
   "metadata": {},
   "outputs": [
    {
     "output_type": "stream",
     "name": "stdout",
     "text": "信頼区間:(1.804, 2.196)\n"
    }
   ],
   "source": [
    "z = 1.96\n",
    "x = 2\n",
    "ss = 100\n",
    "ss_std = 1\n",
    "\n",
    "un_value = x - z * (ss_std / np.sqrt(ss)) \n",
    "up_value = x + z * (ss_std / np.sqrt(ss)) \n",
    "\n",
    "print('信頼区間:({}, {})'.format(un_value, up_value))"
   ]
  }
 ],
 "metadata": {
  "language_info": {
   "codemirror_mode": {
    "name": "ipython",
    "version": 3
   },
   "file_extension": ".py",
   "mimetype": "text/x-python",
   "name": "python",
   "nbconvert_exporter": "python",
   "pygments_lexer": "ipython3",
   "version": "3.7.4-final"
  },
  "orig_nbformat": 2,
  "kernelspec": {
   "name": "python3",
   "display_name": "Python 3"
  }
 },
 "nbformat": 4,
 "nbformat_minor": 2
}